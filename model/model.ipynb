{
 "cells": [
  {
   "cell_type": "code",
   "execution_count": 1,
   "id": "72baf247",
   "metadata": {},
   "outputs": [],
   "source": [
    "import torch\n",
    "import torch.nn as nn\n",
    "import torch.optim as optim\n",
    "import numpy as np"
   ]
  },
  {
   "cell_type": "code",
   "execution_count": null,
   "id": "2fecf36c",
   "metadata": {},
   "outputs": [],
   "source": [
    "class RegressionNet(nn.Module):\n",
    "    def __init__(self):\n",
    "        super(RegressionNet, self).__init__()\n",
    "\n",
    "        self.linear1 = nn.Linear()\n",
    "        self.linear2 = nn.Linear()\n",
    "        self.linear3 = nn.Linear()\n",
    "        self.criterion\n",
    "        self.optimizer\n",
    "        self.lr\n",
    "        self.model\n",
    "\n",
    "    def forward(self, x):\n",
    "        x = torch.relu(self.linear1(x))\n",
    "        x = torch.relu(self.linear2(x))\n",
    "        output = self.linear3(x)\n",
    "        return output\n",
    "    \n",
    "    def lossFunc(self, lr, model):\n",
    "        self.lr = lr\n",
    "        self.criterion = nn.MSELoss()\n",
    "        self.optimizer = optim.Adam(model.paramters(), lr = lr)\n"
   ]
  },
  {
   "cell_type": "code",
   "execution_count": null,
   "id": "e7abe76f",
   "metadata": {},
   "outputs": [],
   "source": [
    "model = RegressionNet()\n",
    "model.lossFunc(lr=1e-2, model=model)"
   ]
  },
  {
   "cell_type": "code",
   "execution_count": null,
   "id": "654ff327",
   "metadata": {},
   "outputs": [],
   "source": [
    "def training_loop(epoch):\n",
    "    for epochs in range(epoch):\n",
    "        model.train()\n",
    "        model.optimizer.zero_grad()\n",
    "        y_pred = model(X_train)\n",
    "        loss = model.criterion(y_pred, y_train)\n",
    "        \n",
    "        loss.backward()\n",
    "        model.optimizer.step()\n",
    "\n",
    "        if (epochs + 1) % 50 == 0:\n",
    "            print(f\"Epoch [{epochs + 1} / {epoch}], Loss: {loss.item():.4f}\")"
   ]
  }
 ],
 "metadata": {
  "kernelspec": {
   "display_name": "base",
   "language": "python",
   "name": "python3"
  },
  "language_info": {
   "codemirror_mode": {
    "name": "ipython",
    "version": 3
   },
   "file_extension": ".py",
   "mimetype": "text/x-python",
   "name": "python",
   "nbconvert_exporter": "python",
   "pygments_lexer": "ipython3",
   "version": "3.9.12"
  }
 },
 "nbformat": 4,
 "nbformat_minor": 5
}
